{
 "cells": [
  {
   "cell_type": "code",
   "execution_count": 239,
   "metadata": {},
   "outputs": [],
   "source": [
    "from subprocess import Popen, PIPE\n",
    "\n",
    "def flatten_list_of_strings(args):\n",
    "    output = ''\n",
    "    for s in args:\n",
    "        output += s\n",
    "        output += ' '\n",
    "    return output\n",
    "\n",
    "def str_to_num(s):\n",
    "    if '.' in s:\n",
    "        return float(s)\n",
    "    else:\n",
    "        return int(s)\n",
    "\n",
    "class ExpRunner():\n",
    "\n",
    "    def __init__(self, filter_name, input_image_path, implementation, output_image_dir, verbose=False):\n",
    "        self.tp_exec = '../build/tp2'\n",
    "        self.exp_results = {'filter_name': filter_name, 'implementation': implementation}\n",
    "        self.run_args = [self.tp_exec, \n",
    "                         filter_name, \n",
    "                         input_image_path, \n",
    "                         \"-i\", implementation, \n",
    "                         \"-o\", output_image_dir]\n",
    "        self.verbose = verbose\n",
    "        \n",
    "    def exp_keys(self):\n",
    "        '''\n",
    "        [\"Comienzo\",\n",
    "                \"Fin\",\n",
    "                \"# de ciclos insumidos totales\",  \n",
    "                \"# de ciclos insumidos por llamada\"]\n",
    "        '''\n",
    "        return [\"# de ciclos insumidos totales\"] # por ahora solo nos interesa esta\n",
    "\n",
    "    def run_executable(self):\n",
    "        p = Popen(self.run_args, stdout=PIPE, bufsize=1)\n",
    "        with p.stdout:\n",
    "            for line in iter(p.stdout.readline, b''):\n",
    "                line = line.decode(\"utf-8\")\n",
    "                try:\n",
    "                    key, val = line[:-1].split(':')\n",
    "                    key = key.strip(\" \")\n",
    "                    if(key in self.exp_keys()):\n",
    "                        self.exp_results[key] = str_to_num(val)\n",
    "                except:\n",
    "                    pass\n",
    "        p.wait() # wait for the subprocess to exit\n",
    "\n",
    "    def print_help(self):\n",
    "        self.run_executable([self.tp_exec, \"-h\"])\n",
    "        return\n",
    "            \n",
    "    def run(self):\n",
    "        if self.verbose:\n",
    "            print(\"Run command:\")\n",
    "            print(flatten_list_of_strings(self.run_args))\n",
    "            print\n",
    "            \n",
    "        self.run_executable()\n",
    "        return dict(self.exp_results)"
   ]
  },
  {
   "cell_type": "markdown",
   "metadata": {},
   "source": [
    "### Cargar varias exp en un dataframe"
   ]
  },
  {
   "cell_type": "code",
   "execution_count": 240,
   "metadata": {},
   "outputs": [],
   "source": [
    "import pandas as pd\n",
    "from scipy import stats\n",
    "import numpy as np\n",
    "\n",
    "def get_exps(exp_runner, sample_size, z_score_threshold=2.5):\n",
    "\n",
    "    # correr exps\n",
    "    exps = pd.DataFrame([exp_runner.run() for i in range(sample_size)])\n",
    "\n",
    "    # descartar outliers\n",
    "    exps = exps[stats.zscore(np.abs(exps['# de ciclos insumidos totales'])) < z_score_threshold]\n",
    "    \n",
    "    return exps"
   ]
  },
  {
   "cell_type": "markdown",
   "metadata": {},
   "source": [
    "## obtener tamaños y tiempos de exps"
   ]
  },
  {
   "cell_type": "code",
   "execution_count": 269,
   "metadata": {},
   "outputs": [],
   "source": [
    "def qty_pixels(img_name):\n",
    "    rows, cols = img_name.split('.')[1].split('x')\n",
    "    return int(rows) * int(cols)"
   ]
  },
  {
   "cell_type": "code",
   "execution_count": 257,
   "metadata": {},
   "outputs": [],
   "source": [
    "import os\n",
    "# img_names = [\"Wargames\", \"NoCountryForOldMen\"]\n",
    "img_dir=\"../tests/data/imagenes_a_testear/\"\n",
    "\n",
    "sizes = []\n",
    "times = []\n",
    "for img_name in os.listdir(img_dir):\n",
    "    if \"Wargames\" in img_name:\n",
    "        er = ExpRunner(filter_name = \"Sharpen\",\n",
    "            input_image_path=img_dir+img_name,\n",
    "            implementation = \"asm\", \n",
    "            output_image_dir = \"./exp_output_images/\")\n",
    "\n",
    "        exps = get_exps(er, 30, z_score_threshold=2.5)\n",
    "        sizes.append(qty_pixels(img_name))\n",
    "        times.append(exps[\"# de ciclos insumidos totales\"].mean())\n",
    "\n",
    "sizes_vs_times = list(zip(sizes,times))\n",
    "sizes_vs_times.sort(key=lambda tup: tup[0])"
   ]
  },
  {
   "cell_type": "markdown",
   "metadata": {},
   "source": [
    "## plotear resultados"
   ]
  },
  {
   "cell_type": "code",
   "execution_count": 268,
   "metadata": {},
   "outputs": [
    {
     "data": {
      "text/plain": [
       "[<matplotlib.lines.Line2D at 0x7faa9d5e64e0>]"
      ]
     },
     "execution_count": 268,
     "metadata": {},
     "output_type": "execute_result"
    },
    {
     "data": {
      "image/png": "[encoded data removed]",
      "text/plain": [
       "<Figure size 432x288 with 1 Axes>"
      ]
     },
     "metadata": {
      "needs_background": "light"
     },
     "output_type": "display_data"
    }
   ],
   "source": [
    "import matplotlib.pyplot as plt\n",
    "sizes, times = zip(*sizes_vs_times)\n",
    "plt.plot(sizes, times)"
   ]
  },
  {
   "cell_type": "markdown",
   "metadata": {},
   "source": [
    "# TODO: poder correr distintas implementaciones"
   ]
  }
 ],
 "metadata": {
  "kernelspec": {
   "display_name": "Python 2",
   "language": "python",
   "name": "python2"
  },
  "language_info": {
   "codemirror_mode": {
    "name": "ipython",
    "version": 2
   },
   "file_extension": ".py",
   "mimetype": "text/x-python",
   "name": "python",
   "nbconvert_exporter": "python",
   "pygments_lexer": "ipython2",
   "version": "2.7.15rc1"
  }
 },
 "nbformat": 4,
 "nbformat_minor": 2
}
