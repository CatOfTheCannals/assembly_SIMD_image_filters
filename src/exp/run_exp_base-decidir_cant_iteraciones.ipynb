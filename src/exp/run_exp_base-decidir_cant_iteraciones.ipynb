{
 "cells": [
  {
   "cell_type": "code",
   "execution_count": null,
   "metadata": {},
   "outputs": [],
   "source": [
    "img_path = \"../tests/data/imagenes_a_testear/Wargames.1024x600.bmp\"\n",
    "er = ExpRunner(filter_name = \"Sharpen\",\n",
    "            input_image_path = img_path,\n",
    "            implementation = \"asm\", \n",
    "            output_image_dir = \"./exp_ouºtput_images/\")\n",
    "\n",
    "er.run()"
   ]
  },
  {
   "cell_type": "code",
   "execution_count": null,
   "metadata": {},
   "outputs": [],
   "source": [
    "img_path=\"../tests/data/imagenes_a_testear/Wargames.512x300.bmp\"\n",
    "\n",
    "mer=MultipleAsmImplementationsExpRunner(filter_name = \"Sharpen\",\n",
    "            input_image_path=img_path,\n",
    "            implementation = \"asm\", \n",
    "            output_image_dir = \"./exp_output_images/\")\n",
    "\n",
    "\n",
    "\n",
    "mer.setup_asm_implementation(\"fuck_cache\")\n",
    "mer.run()"
   ]
  },
  {
   "cell_type": "code",
   "execution_count": null,
   "metadata": {},
   "outputs": [],
   "source": [
    "sizes = []\n",
    "times = []\n",
    "filter_name = \"Cuadrados\"\n",
    "\n",
    "filter_implementations_dir_path = \"../filters/Implementaciones{}/\".format(filter_name) \n",
    "implementations = [file.split('.')[0].split('_')[1] for file in os.listdir(filter_implementations_dir_path)]\n",
    "\n",
    "sizes_vs_times = {}\n",
    "for imp in implementations:\n",
    "    \n",
    "    for img_path in image_paths:\n",
    "        mer=MultipleAsmImplementationsExpRunner(filter_name = filter_name,\n",
    "                input_image_path=img_path,\n",
    "                implementation = \"asm\", \n",
    "                output_image_dir = \"./exp_output_images/\")\n",
    "\n",
    "        mer.setup_asm_implementation(imp)\n",
    "\n",
    "        exps = get_exps(mer, 30, z_score_threshold=2.5)\n",
    "        \n",
    "        sizes.append(qty_pixels(img_path))\n",
    "        times.append(exps[\"# de ciclos insumidos totales\"].mean())\n",
    "\n",
    "        size_vs_time_pair = list(zip(sizes,times))\n",
    "        size_vs_time_pair.sort(key=lambda tup: tup[0])\n",
    "    sizes_vs_times[imp] = size_vs_time_pair\n",
    "sizes_vs_times"
   ]
  },
  {
   "cell_type": "markdown",
   "metadata": {},
   "source": [
    "# Lo de arriba es mentira ;)"
   ]
  },
  {
   "cell_type": "code",
   "execution_count": 1,
   "metadata": {},
   "outputs": [
    {
     "data": {
      "text/plain": [
       "10"
      ]
     },
     "execution_count": 1,
     "metadata": {},
     "output_type": "execute_result"
    }
   ],
   "source": [
    "5+5"
   ]
  },
  {
   "cell_type": "code",
   "execution_count": 2,
   "metadata": {},
   "outputs": [],
   "source": [
    "from subprocess import Popen, PIPE\n",
    "\n",
    "def flatten_list_of_strings(args):\n",
    "    output = ''\n",
    "    for s in args:\n",
    "        output += s\n",
    "        output += ' '\n",
    "    return output\n",
    "\n",
    "def str_to_num(s):\n",
    "    if '.' in s:\n",
    "        return float(s)\n",
    "    else:\n",
    "        return int(s)\n",
    "\n",
    "class ExpRunner():\n",
    "\n",
    "    def __init__(self, filter_name, input_image_path, implementation, output_image_dir, verbose=False):\n",
    "        self.tp_exec = '../build/tp2'\n",
    "        self.filter_name = filter_name\n",
    "        self.exp_results = {'filter_name': filter_name, 'implementation': implementation}\n",
    "        self.run_args = [self.tp_exec, \n",
    "                         filter_name, \n",
    "                         input_image_path, \n",
    "                         \"-i\", implementation, \n",
    "                         \"-o\", output_image_dir]\n",
    "        self.verbose = verbose\n",
    "        \n",
    "    def exp_keys(self):\n",
    "        '''\n",
    "        [\"Comienzo\",\n",
    "                \"Fin\",\n",
    "                \"# de ciclos insumidos totales\",  \n",
    "                \"# de ciclos insumidos por llamada\"]\n",
    "        '''\n",
    "        return [\"# de ciclos insumidos totales\"] # por ahora solo nos interesa esta\n",
    "\n",
    "    def run_executable(self,run_args):\n",
    "        p = Popen(run_args, stdout=PIPE, bufsize=1)\n",
    "        with p.stdout:\n",
    "            for line in iter(p.stdout.readline, b''):\n",
    "                line = line.decode(\"utf-8\")\n",
    "                try:\n",
    "                    key, val = line[:-1].split(':')\n",
    "                    key = key.strip(\" \")\n",
    "                    if(key in self.exp_keys()):\n",
    "                        self.exp_results[key] = str_to_num(val)\n",
    "                except:\n",
    "                    pass\n",
    "        p.wait() # wait for the subprocess to exit\n",
    "\n",
    "    def print_help(self):\n",
    "        self.run_executable([self.tp_exec, \"-h\"])\n",
    "        return\n",
    "            \n",
    "    def run(self):\n",
    "        if self.verbose:\n",
    "            print(\"Run command:\")\n",
    "            print(flatten_list_of_strings(self.run_args))\n",
    "            print\n",
    "        self.run_executable(self.run_args)\n",
    "        return dict(self.exp_results) # esto es para copiar el resultado"
   ]
  },
  {
   "cell_type": "code",
   "execution_count": 3,
   "metadata": {},
   "outputs": [],
   "source": [
    "from shutil import copyfile\n",
    "from subprocess import check_call\n",
    "\n",
    "class MultipleAsmImplementationsExpRunner(ExpRunner):\n",
    "    \n",
    "    def setup_asm_implementation(self, asm_implementation):\n",
    "        filters_path = \"../filters/\" \n",
    "        exp_filters_path = filters_path + \"Implementaciones\" + self.filter_name + \"/\"\n",
    "        dest_implementation = \"asm\"\n",
    "        \n",
    "        src_asm = exp_filters_path + self.filter_name + '_' + asm_implementation + \".asm\"\n",
    "        dst_asm = filters_path + self.filter_name + '_' + dest_implementation + \".asm\"\n",
    "        copyfile(src_asm, dst_asm)\n",
    "        \n",
    "    def make_executable(self):\n",
    "        check_call([\"make\"], cwd=\"../\")\n",
    "        # TODO: estaria cheto que esto avise explicitamente cuando falla el make\n",
    "    \n",
    "    def run(self):\n",
    "        self.make_executable()\n",
    "        return super().run()\n",
    "        "
   ]
  },
  {
   "cell_type": "markdown",
   "metadata": {},
   "source": [
    "### Cargar varias exp en un dataframe"
   ]
  },
  {
   "cell_type": "code",
   "execution_count": 4,
   "metadata": {},
   "outputs": [],
   "source": [
    "import pandas as pd\n",
    "from scipy import stats\n",
    "import numpy as np\n",
    "\n",
    "def get_exps(exp_runner, sample_size, z_score_threshold=2.5):\n",
    "\n",
    "    # correr exps\n",
    "    exps = pd.DataFrame([exp_runner.run() for i in range(sample_size)])\n",
    "\n",
    "    # descartar outliers\n",
    "    # exps = exps[stats.zscore(np.abs(exps['# de ciclos insumidos totales'])) < z_score_threshold]\n",
    "    \n",
    "    return exps\n"
   ]
  },
  {
   "cell_type": "markdown",
   "metadata": {},
   "source": [
    "## obtener tamaños y tiempos de exps"
   ]
  },
  {
   "cell_type": "code",
   "execution_count": 5,
   "metadata": {},
   "outputs": [],
   "source": [
    "def qty_pixels(img_name):\n",
    "    rows, cols = img_name.split('/')[-1].split('.')[1].split('x')\n",
    "    return int(rows) * int(cols)"
   ]
  },
  {
   "cell_type": "markdown",
   "metadata": {},
   "source": [
    "### imagenes de distintos tamaños"
   ]
  },
  {
   "cell_type": "code",
   "execution_count": 6,
   "metadata": {},
   "outputs": [],
   "source": [
    "import os\n",
    "\n",
    "# img_names = [\"Wargames\", \"NoCountryForOldMen\"]\n",
    "\n",
    "img_dir=\"../tests/data/imagenes_a_testear/\"\n",
    "image_paths = []\n",
    "for img_name in os.listdir(img_dir):\n",
    "    if \"Wargames\" in img_name:\n",
    "        img_path = img_dir+img_name\n",
    "        image_paths.append(img_path)"
   ]
  },
  {
   "cell_type": "markdown",
   "metadata": {},
   "source": [
    "### correr exps :D"
   ]
  },
  {
   "cell_type": "code",
   "execution_count": 8,
   "metadata": {},
   "outputs": [
    {
     "data": {
      "text/plain": [
       "['../tests/data/imagenes_a_testear/Wargames.1024x600.bmp',\n",
       " '../tests/data/imagenes_a_testear/Wargames.256x150.bmp',\n",
       " '../tests/data/imagenes_a_testear/Wargames.512x300.bmp',\n",
       " '../tests/data/imagenes_a_testear/Wargames.128x75.bmp',\n",
       " '../tests/data/imagenes_a_testear/Wargames.32x18.bmp',\n",
       " '../tests/data/imagenes_a_testear/Wargames.64x37.bmp']"
      ]
     },
     "execution_count": 8,
     "metadata": {},
     "output_type": "execute_result"
    }
   ],
   "source": [
    "image_paths"
   ]
  },
  {
   "cell_type": "code",
   "execution_count": 40,
   "metadata": {},
   "outputs": [],
   "source": [
    "sizes = []\n",
    "times = []\n",
    "filter_name = \"Sharpen\"\n",
    "\n",
    "filter_implementations_dir_path = \"../filters/Implementaciones{}/\".format(filter_name) \n",
    "implementations = [file.split('.')[0].split('_')[1] for file in os.listdir(filter_implementations_dir_path)]\n",
    "\n",
    "# shorter exp time\n",
    "#qty_exps=30\n",
    "qty_exps=1000\n",
    "img_qty=4\n",
    "\n",
    "sizes_vs_times = {}\n",
    "exp_dfs_per_imp = []\n",
    "imp=\"baseline\"\n",
    "img_path=image_paths[1] # 256x150\n",
    "\n",
    "mer=MultipleAsmImplementationsExpRunner(filter_name = filter_name,\n",
    "        input_image_path=img_path,\n",
    "        implementation = \"asm\", \n",
    "        output_image_dir = \"./exp_output_images/\",\n",
    "        verbose=False)\n",
    "\n",
    "mer.setup_asm_implementation(imp)\n",
    "\n",
    "exps = get_exps(mer, qty_exps, z_score_threshold=2.5)\n",
    "exps['implementation'] = imp\n",
    "\n",
    "exps['qty_pixels'] = qty_pixels(img_path)\n",
    "\n",
    "exp_dfs_per_imp.append(exps)\n",
    "\n",
    "exp_df = pd.concat(exp_dfs_per_imp)"
   ]
  },
  {
   "cell_type": "code",
   "execution_count": 25,
   "metadata": {},
   "outputs": [],
   "source": [
    "exp_df = pd.concat(exp_dfs_per_imp)"
   ]
  },
  {
   "cell_type": "code",
   "execution_count": 41,
   "metadata": {},
   "outputs": [],
   "source": [
    "exp_df['millones de ciclos'] = exp_df['# de ciclos insumidos totales'] / 1000000"
   ]
  },
  {
   "cell_type": "markdown",
   "metadata": {},
   "source": [
    "### Distribucion de tiempos de corrida para la misma exp mil veces"
   ]
  },
  {
   "cell_type": "code",
   "execution_count": 50,
   "metadata": {},
   "outputs": [
    {
     "data": {
      "image/png": "[encoded data removed]",
      "text/plain": [
       "<Figure size 432x288 with 1 Axes>"
      ]
     },
     "metadata": {},
     "output_type": "display_data"
    }
   ],
   "source": [
    "import matplotlib.pyplot as plt\n",
    "plt.style.use('classic')\n",
    "%matplotlib inline\n",
    "\n",
    "import seaborn as sns\n",
    "sns.set()\n",
    "\n",
    "# Plot sepal with as a function of sepal_length across days\n",
    "g = sns.distplot(exp_df[\"millones de ciclos\"], axlabel='holis')\n",
    "\n",
    "# Use more informative axis labels than are provided by default\n",
    "# g.set_axis_labels(\"Sepal length (mm)\", \"Sepal width (mm)\")"
   ]
  },
  {
   "cell_type": "code",
   "execution_count": null,
   "metadata": {},
   "outputs": [],
   "source": []
  },
  {
   "cell_type": "code",
   "execution_count": 90,
   "metadata": {},
   "outputs": [
    {
     "data": {
      "image/png": "[encoded data removed]",
      "text/plain": [
       "<Figure size 432x288 with 1 Axes>"
      ]
     },
     "metadata": {},
     "output_type": "display_data"
    },
    {
     "data": {
      "text/plain": [
       "<Figure size 432x288 with 0 Axes>"
      ]
     },
     "metadata": {},
     "output_type": "display_data"
    }
   ],
   "source": [
    "qty_exps=len(exp_df.index)\n",
    "\n",
    "mu_i = [np.mean(exp_df.head(i)[\"millones de ciclos\"]) for i in range(qty_exps)]\n",
    "mu_i = mu_i[1:] # la primera muestra da nan\n",
    "\n",
    "ax = sns.lineplot(data=pd.Series(mu_i), );\n",
    "ax.set(xlabel=\"cantidad de muestras\", ylabel=\"tiempo promedio(millones de ciclos)\")\n",
    "plt.show()\n",
    "plots_save_dir_path = './plots_decidir_cant_iteraciones/'\n",
    "plot_name=\"promedio_muestral_vs_cantidad_de_muestras\"\n",
    "plt.savefig(plots_save_dir_path + plot_name + '.png')"
   ]
  },
  {
   "cell_type": "code",
   "execution_count": 87,
   "metadata": {},
   "outputs": [
    {
     "name": "stdout",
     "output_type": "stream",
     "text": [
      "\u001b[0m\u001b[01;34mexp_output_images\u001b[0m/        run_exp_base-decidir_cant_iteraciones.ipynb\r\n",
      "multi_reg_iris.ipynb      run_exp_base-hacer_varias_imp.ipynb\r\n",
      "run_exp.ipynb             run_exp_base.ipynb\r\n",
      "run_exp_base-Copy1.ipynb\r\n"
     ]
    }
   ],
   "source": [
    "ls"
   ]
  },
  {
   "cell_type": "code",
   "execution_count": 89,
   "metadata": {},
   "outputs": [
    {
     "data": {
      "image/png": "[encoded data removed]",
      "text/plain": [
       "<Figure size 432x288 with 1 Axes>"
      ]
     },
     "metadata": {},
     "output_type": "display_data"
    },
    {
     "data": {
      "text/plain": [
       "<Figure size 432x288 with 0 Axes>"
      ]
     },
     "metadata": {},
     "output_type": "display_data"
    }
   ],
   "source": [
    "sigma_i = [np.std(exp_df.head(i)[\"millones de ciclos\"]) for i in range(qty_exps)]\n",
    "sigma_i = sigma_i[1:] # la primera muestra da nan\n",
    "\n",
    "ax = sns.lineplot(data=pd.Series(sigma_i), );\n",
    "ax.set(xlabel=\"cantidad de muestras\", ylabel=\"desviacion estandar del tiempo(millones de ciclos)\")\n",
    "plt.show()\n",
    "plots_save_dir_path = './plots_decidir_cant_iteraciones/'\n",
    "plot_name=\"desviacion_estandar_vs_cantidad_de_muestras\"\n",
    "plt.savefig(plots_save_dir_path + plot_name + '.png')"
   ]
  },
  {
   "cell_type": "code",
   "execution_count": null,
   "metadata": {},
   "outputs": [],
   "source": []
  },
  {
   "cell_type": "code",
   "execution_count": null,
   "metadata": {},
   "outputs": [],
   "source": []
  },
  {
   "cell_type": "code",
   "execution_count": null,
   "metadata": {},
   "outputs": [],
   "source": []
  },
  {
   "cell_type": "code",
   "execution_count": 50,
   "metadata": {},
   "outputs": [
    {
     "data": {
      "text/plain": [
       "<matplotlib.legend.Legend at 0x7f8cf57b1cf8>"
      ]
     },
     "execution_count": 50,
     "metadata": {},
     "output_type": "execute_result"
    },
    {
     "data": {
      "image/png": "[encoded data removed]",
      "text/plain": [
       "<Figure size 432x288 with 1 Axes>"
      ]
     },
     "metadata": {
      "needs_background": "light"
     },
     "output_type": "display_data"
    }
   ],
   "source": [
    "import matplotlib.pyplot as plt\n",
    "\n",
    "for imp, exps in sizes_vs_times.items():\n",
    "    sizes, times = zip(*exps)\n",
    "    plt.plot(sizes, times, label=imp)\n",
    "\n",
    "plt.legend()\n",
    "\n"
   ]
  },
  {
   "cell_type": "code",
   "execution_count": null,
   "metadata": {},
   "outputs": [],
   "source": [
    "plt.plot(y=times, x=sizes)\n"
   ]
  },
  {
   "cell_type": "markdown",
   "metadata": {},
   "source": [
    "## plotear resultados"
   ]
  },
  {
   "cell_type": "code",
   "execution_count": 2,
   "metadata": {},
   "outputs": [
    {
     "ename": "NameError",
     "evalue": "name 'sizes_vs_times' is not defined",
     "output_type": "error",
     "traceback": [
      "\u001b[0;31m---------------------------------------------------------------------------\u001b[0m",
      "\u001b[0;31mNameError\u001b[0m                                 Traceback (most recent call last)",
      "\u001b[0;32m<ipython-input-2-8a676d173498>\u001b[0m in \u001b[0;36m<module>\u001b[0;34m\u001b[0m\n\u001b[1;32m      1\u001b[0m \u001b[0;32mimport\u001b[0m \u001b[0mmatplotlib\u001b[0m\u001b[0;34m.\u001b[0m\u001b[0mpyplot\u001b[0m \u001b[0;32mas\u001b[0m \u001b[0mplt\u001b[0m\u001b[0;34m\u001b[0m\u001b[0;34m\u001b[0m\u001b[0m\n\u001b[0;32m----> 2\u001b[0;31m \u001b[0msizes\u001b[0m\u001b[0;34m,\u001b[0m \u001b[0mtimes\u001b[0m \u001b[0;34m=\u001b[0m \u001b[0mzip\u001b[0m\u001b[0;34m(\u001b[0m\u001b[0;34m*\u001b[0m\u001b[0msizes_vs_times\u001b[0m\u001b[0;34m)\u001b[0m\u001b[0;34m\u001b[0m\u001b[0;34m\u001b[0m\u001b[0m\n\u001b[0m\u001b[1;32m      3\u001b[0m \u001b[0mplt\u001b[0m\u001b[0;34m.\u001b[0m\u001b[0mplot\u001b[0m\u001b[0;34m(\u001b[0m\u001b[0msizes\u001b[0m\u001b[0;34m,\u001b[0m \u001b[0mtimes\u001b[0m\u001b[0;34m)\u001b[0m\u001b[0;34m\u001b[0m\u001b[0;34m\u001b[0m\u001b[0m\n",
      "\u001b[0;31mNameError\u001b[0m: name 'sizes_vs_times' is not defined"
     ]
    }
   ],
   "source": [
    "import matplotlib.pyplot as plt\n",
    "sizes, times = zip(*sizes_vs_times)\n",
    "plt.plot(sizes, times)"
   ]
  },
  {
   "cell_type": "code",
   "execution_count": 274,
   "metadata": {},
   "outputs": [
    {
     "data": {
      "text/plain": [
       "[<matplotlib.lines.Line2D at 0x7faa9d542780>]"
      ]
     },
     "execution_count": 274,
     "metadata": {},
     "output_type": "execute_result"
    },
    {
     "data": {
      "image/png": "[encoded data removed]",
      "text/plain": [
       "<Figure size 432x288 with 1 Axes>"
      ]
     },
     "metadata": {
      "needs_background": "light"
     },
     "output_type": "display_data"
    }
   ],
   "source": [
    "import matplotlib.pyplot as plt\n",
    "sizes, times = zip(*sizes_vs_times)\n",
    "plt.plot(sizes, times)"
   ]
  }
 ],
 "metadata": {
  "kernelspec": {
   "display_name": "Python 3",
   "language": "python",
   "name": "python3"
  },
  "language_info": {
   "codemirror_mode": {
    "name": "ipython",
    "version": 3
   },
   "file_extension": ".py",
   "mimetype": "text/x-python",
   "name": "python",
   "nbconvert_exporter": "python",
   "pygments_lexer": "ipython3",
   "version": "3.6.8"
  }
 },
 "nbformat": 4,
 "nbformat_minor": 2
}
